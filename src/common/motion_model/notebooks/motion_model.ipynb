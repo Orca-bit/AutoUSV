{
 "cells": [
  {
   "cell_type": "code",
   "execution_count": 1,
   "metadata": {},
   "outputs": [],
   "source": [
    "%matplotlib inline\n",
    "from IPython.display import Markdown, display\n",
    "import numpy as np\n",
    "import matplotlib.dates as mdates\n",
    "import matplotlib.pyplot as plt\n",
    "import time\n",
    "from scipy.stats import norm\n",
    "from sympy import Symbol, symbols, Matrix, sin, cos, integrate, diff, Q, refine, simplify, factor, expand_trig, exp, latex, Integral\n",
    "from sympy import init_printing\n",
    "from sympy.utilities.codegen import codegen\n",
    "init_printing(use_latex=True)"
   ]
  },
  {
   "cell_type": "markdown",
   "metadata": {},
   "source": [
    "# Motion models\n",
    "In tracking we can use different motion models. Here, we will derive a couple of those:"
   ]
  },
  {
   "cell_type": "markdown",
   "metadata": {},
   "source": [
    "## CATR - constant acceleration and turn rate model\n",
    "This model assumes the state $[x, y, \\theta, v, \\omega, a]^\\top$, where $x$ and $y$ are coordinates of the object, $\\theta$ is it CCW orientation, $v$ is its speed along the vector spawned by $\\theta$, $\\omega$ is the angular velocity (aka turn rate), and $a$ is the acceleration along the vector spawned by $\\theta$. Furthermore, we assume that the object has constant acceleration $a$ and constant turn rate $\\omega$. This is a useful model to model differential-drive systems.\n",
    "\n",
    "### Derivation:"
   ]
  },
  {
   "cell_type": "code",
   "execution_count": 4,
   "metadata": {
    "scrolled": false
   },
   "outputs": [
    {
     "name": "stdout",
     "output_type": "stream",
     "text": [
      "CART state is:\n"
     ]
    },
    {
     "data": {
      "text/latex": [
       "$\\displaystyle \\left[\\begin{matrix}x\\\\y\\\\\\theta\\\\v\\\\\\omega\\\\a\\end{matrix}\\right]$"
      ],
      "text/plain": [
       "⎡  x   ⎤\n",
       "⎢      ⎥\n",
       "⎢  y   ⎥\n",
       "⎢      ⎥\n",
       "⎢\\theta⎥\n",
       "⎢      ⎥\n",
       "⎢  v   ⎥\n",
       "⎢      ⎥\n",
       "⎢\\omega⎥\n",
       "⎢      ⎥\n",
       "⎣  a   ⎦"
      ]
     },
     "metadata": {},
     "output_type": "display_data"
    },
    {
     "name": "stdout",
     "output_type": "stream",
     "text": [
      "Assuming a non-zero turn rate, the next state is:\n"
     ]
    },
    {
     "data": {
      "text/latex": [
       "$\\displaystyle \\left[\\begin{matrix}\\frac{\\Delta{t} a \\sin{\\left(\\Delta{t} \\hat{\\omega} + \\theta \\right)}}{\\hat{\\omega}} + x - \\frac{v \\sin{\\left(\\theta \\right)}}{\\hat{\\omega}} + \\frac{v \\sin{\\left(\\Delta{t} \\hat{\\omega} + \\theta \\right)}}{\\hat{\\omega}} - \\frac{a \\cos{\\left(\\theta \\right)}}{\\hat{\\omega}^{2}} + \\frac{a \\cos{\\left(\\Delta{t} \\hat{\\omega} + \\theta \\right)}}{\\hat{\\omega}^{2}}\\\\- \\frac{\\Delta{t} a \\cos{\\left(\\Delta{t} \\hat{\\omega} + \\theta \\right)}}{\\hat{\\omega}} + y + \\frac{v \\cos{\\left(\\theta \\right)}}{\\hat{\\omega}} - \\frac{v \\cos{\\left(\\Delta{t} \\hat{\\omega} + \\theta \\right)}}{\\hat{\\omega}} - \\frac{a \\sin{\\left(\\theta \\right)}}{\\hat{\\omega}^{2}} + \\frac{a \\sin{\\left(\\Delta{t} \\hat{\\omega} + \\theta \\right)}}{\\hat{\\omega}^{2}}\\\\\\Delta{t} \\hat{\\omega} + \\theta\\\\\\Delta{t} a + v\\\\\\hat{\\omega}\\\\a\\end{matrix}\\right]$"
      ],
      "text/plain": [
       "⎡ \\Delta{t}⋅a⋅sin(\\Delta{t}⋅\\hat{\\omega} + \\theta)       v⋅sin(\\theta)   v⋅sin\n",
       "⎢ ──────────────────────────────────────────────── + x - ───────────── + ─────\n",
       "⎢                   \\hat{\\omega}                          \\hat{\\omega}        \n",
       "⎢                                                                             \n",
       "⎢                                                                             \n",
       "⎢  \\Delta{t}⋅a⋅cos(\\Delta{t}⋅\\hat{\\omega} + \\theta)       v⋅cos(\\theta)   v⋅co\n",
       "⎢- ──────────────────────────────────────────────── + y + ───────────── - ────\n",
       "⎢                    \\hat{\\omega}                          \\hat{\\omega}       \n",
       "⎢                                                                             \n",
       "⎢                                                                             \n",
       "⎢                                                                    \\Delta{t}\n",
       "⎢                                                                             \n",
       "⎢                                                                            \\\n",
       "⎢                                                                             \n",
       "⎢                                                                             \n",
       "⎢                                                                             \n",
       "⎣                                                                             \n",
       "\n",
       "(\\Delta{t}⋅\\hat{\\omega} + \\theta)   a⋅cos(\\theta)   a⋅cos(\\Delta{t}⋅\\hat{\\omeg\n",
       "───────────────────────────────── - ───────────── + ──────────────────────────\n",
       "        \\hat{\\omega}                            2                           2 \n",
       "                                    \\hat{\\omega}                \\hat{\\omega}  \n",
       "                                                                              \n",
       "s(\\Delta{t}⋅\\hat{\\omega} + \\theta)   a⋅sin(\\theta)   a⋅sin(\\Delta{t}⋅\\hat{\\ome\n",
       "────────────────────────────────── - ───────────── + ─────────────────────────\n",
       "         \\hat{\\omega}                            2                           2\n",
       "                                     \\hat{\\omega}                \\hat{\\omega} \n",
       "                                                                              \n",
       "⋅\\hat{\\omega} + \\theta                                                        \n",
       "                                                                              \n",
       "Delta{t}⋅a + v                                                                \n",
       "                                                                              \n",
       " \\hat{\\omega}                                                                 \n",
       "                                                                              \n",
       "      a                                                                       \n",
       "\n",
       "a} + \\theta) ⎤\n",
       "──────────── ⎥\n",
       "             ⎥\n",
       "             ⎥\n",
       "             ⎥\n",
       "ga} + \\theta)⎥\n",
       "─────────────⎥\n",
       "             ⎥\n",
       "             ⎥\n",
       "             ⎥\n",
       "             ⎥\n",
       "             ⎥\n",
       "             ⎥\n",
       "             ⎥\n",
       "             ⎥\n",
       "             ⎥\n",
       "             ⎦"
      ]
     },
     "metadata": {},
     "output_type": "display_data"
    },
    {
     "data": {
      "text/plain": [
       "'Plugging in the numbers:'"
      ]
     },
     "metadata": {},
     "output_type": "display_data"
    },
    {
     "data": {
      "image/png": "[encoded data removed]",
      "text/latex": [
       "$\\displaystyle \\left\\{ \\Delta{t} : 0.1, \\  \\hat{\\omega} : 2, \\  \\omega_{0} : 0, \\  \\theta : 0.5, \\  a : 2, \\  v : 2, \\  x : 42, \\  y : 23\\right\\}$"
      ],
      "text/plain": [
       "{\\Delta{t}: 0.1, \\hat{\\omega}: 2, \\omega₀: 0, \\theta: 0.5, a: 2, v: 2, x: 42, \n",
       "y: 23}"
      ]
     },
     "metadata": {},
     "output_type": "display_data"
    },
    {
     "data": {
      "text/latex": [
       "$\\displaystyle \\left[\\begin{matrix}42.1728437300543\\\\23.1186522301942\\\\0.7\\\\2.2\\\\2.0\\\\2.0\\end{matrix}\\right]$"
      ],
      "text/plain": [
       "⎡42.1728437300543⎤\n",
       "⎢                ⎥\n",
       "⎢23.1186522301942⎥\n",
       "⎢                ⎥\n",
       "⎢      0.7       ⎥\n",
       "⎢                ⎥\n",
       "⎢      2.2       ⎥\n",
       "⎢                ⎥\n",
       "⎢      2.0       ⎥\n",
       "⎢                ⎥\n",
       "⎣      2.0       ⎦"
      ]
     },
     "metadata": {},
     "output_type": "display_data"
    },
    {
     "name": "stdout",
     "output_type": "stream",
     "text": [
      "Jacobian of the next state with respect to the previous state:\n"
     ]
    },
    {
     "data": {
      "text/latex": [
       "$\\displaystyle \\left[\\begin{matrix}1 & 0 & \\frac{\\Delta{t} a \\cos{\\left(\\Delta{t} \\hat{\\omega} + \\theta \\right)}}{\\hat{\\omega}} - \\frac{v \\cos{\\left(\\theta \\right)}}{\\hat{\\omega}} + \\frac{v \\cos{\\left(\\Delta{t} \\hat{\\omega} + \\theta \\right)}}{\\hat{\\omega}} + \\frac{a \\sin{\\left(\\theta \\right)}}{\\hat{\\omega}^{2}} - \\frac{a \\sin{\\left(\\Delta{t} \\hat{\\omega} + \\theta \\right)}}{\\hat{\\omega}^{2}} & - \\frac{\\sin{\\left(\\theta \\right)}}{\\hat{\\omega}} + \\frac{\\sin{\\left(\\Delta{t} \\hat{\\omega} + \\theta \\right)}}{\\hat{\\omega}} & \\frac{\\Delta{t}^{2} a \\cos{\\left(\\Delta{t} \\hat{\\omega} + \\theta \\right)}}{\\hat{\\omega}} + \\frac{\\Delta{t} v \\cos{\\left(\\Delta{t} \\hat{\\omega} + \\theta \\right)}}{\\hat{\\omega}} - \\frac{2 \\Delta{t} a \\sin{\\left(\\Delta{t} \\hat{\\omega} + \\theta \\right)}}{\\hat{\\omega}^{2}} + \\frac{v \\sin{\\left(\\theta \\right)}}{\\hat{\\omega}^{2}} - \\frac{v \\sin{\\left(\\Delta{t} \\hat{\\omega} + \\theta \\right)}}{\\hat{\\omega}^{2}} + \\frac{2 a \\cos{\\left(\\theta \\right)}}{\\hat{\\omega}^{3}} - \\frac{2 a \\cos{\\left(\\Delta{t} \\hat{\\omega} + \\theta \\right)}}{\\hat{\\omega}^{3}} & \\frac{\\Delta{t} \\sin{\\left(\\Delta{t} \\hat{\\omega} + \\theta \\right)}}{\\hat{\\omega}} - \\frac{\\cos{\\left(\\theta \\right)}}{\\hat{\\omega}^{2}} + \\frac{\\cos{\\left(\\Delta{t} \\hat{\\omega} + \\theta \\right)}}{\\hat{\\omega}^{2}}\\\\0 & 1 & \\frac{\\Delta{t} a \\sin{\\left(\\Delta{t} \\hat{\\omega} + \\theta \\right)}}{\\hat{\\omega}} - \\frac{v \\sin{\\left(\\theta \\right)}}{\\hat{\\omega}} + \\frac{v \\sin{\\left(\\Delta{t} \\hat{\\omega} + \\theta \\right)}}{\\hat{\\omega}} - \\frac{a \\cos{\\left(\\theta \\right)}}{\\hat{\\omega}^{2}} + \\frac{a \\cos{\\left(\\Delta{t} \\hat{\\omega} + \\theta \\right)}}{\\hat{\\omega}^{2}} & \\frac{\\cos{\\left(\\theta \\right)}}{\\hat{\\omega}} - \\frac{\\cos{\\left(\\Delta{t} \\hat{\\omega} + \\theta \\right)}}{\\hat{\\omega}} & \\frac{\\Delta{t}^{2} a \\sin{\\left(\\Delta{t} \\hat{\\omega} + \\theta \\right)}}{\\hat{\\omega}} + \\frac{\\Delta{t} v \\sin{\\left(\\Delta{t} \\hat{\\omega} + \\theta \\right)}}{\\hat{\\omega}} + \\frac{2 \\Delta{t} a \\cos{\\left(\\Delta{t} \\hat{\\omega} + \\theta \\right)}}{\\hat{\\omega}^{2}} - \\frac{v \\cos{\\left(\\theta \\right)}}{\\hat{\\omega}^{2}} + \\frac{v \\cos{\\left(\\Delta{t} \\hat{\\omega} + \\theta \\right)}}{\\hat{\\omega}^{2}} + \\frac{2 a \\sin{\\left(\\theta \\right)}}{\\hat{\\omega}^{3}} - \\frac{2 a \\sin{\\left(\\Delta{t} \\hat{\\omega} + \\theta \\right)}}{\\hat{\\omega}^{3}} & - \\frac{\\Delta{t} \\cos{\\left(\\Delta{t} \\hat{\\omega} + \\theta \\right)}}{\\hat{\\omega}} - \\frac{\\sin{\\left(\\theta \\right)}}{\\hat{\\omega}^{2}} + \\frac{\\sin{\\left(\\Delta{t} \\hat{\\omega} + \\theta \\right)}}{\\hat{\\omega}^{2}}\\\\0 & 0 & 1 & 0 & \\Delta{t} & 0\\\\0 & 0 & 0 & 1 & 0 & \\Delta{t}\\\\0 & 0 & 0 & 0 & 1 & 0\\\\0 & 0 & 0 & 0 & 0 & 1\\end{matrix}\\right]$"
      ],
      "text/plain": [
       "⎡                                                                             \n",
       "⎢      \\Delta{t}⋅a⋅cos(\\Delta{t}⋅\\hat{\\omega} + \\theta)   v⋅cos(\\theta)   v⋅co\n",
       "⎢1  0  ──────────────────────────────────────────────── - ───────────── + ────\n",
       "⎢                        \\hat{\\omega}                      \\hat{\\omega}       \n",
       "⎢                                                                             \n",
       "⎢                                                                             \n",
       "⎢                                                                             \n",
       "⎢      \\Delta{t}⋅a⋅sin(\\Delta{t}⋅\\hat{\\omega} + \\theta)   v⋅sin(\\theta)   v⋅si\n",
       "⎢0  1  ──────────────────────────────────────────────── - ───────────── + ────\n",
       "⎢                        \\hat{\\omega}                      \\hat{\\omega}       \n",
       "⎢                                                                             \n",
       "⎢                                                                             \n",
       "⎢0  0                                                                         \n",
       "⎢                                                                             \n",
       "⎢0  0                                                                         \n",
       "⎢                                                                             \n",
       "⎢0  0                                                                         \n",
       "⎢                                                                             \n",
       "⎣0  0                                                                         \n",
       "\n",
       "                                                                              \n",
       "s(\\Delta{t}⋅\\hat{\\omega} + \\theta)   a⋅sin(\\theta)   a⋅sin(\\Delta{t}⋅\\hat{\\ome\n",
       "────────────────────────────────── + ───────────── - ─────────────────────────\n",
       "         \\hat{\\omega}                            2                           2\n",
       "                                     \\hat{\\omega}                \\hat{\\omega} \n",
       "                                                                              \n",
       "                                                                              \n",
       "n(\\Delta{t}⋅\\hat{\\omega} + \\theta)   a⋅cos(\\theta)   a⋅cos(\\Delta{t}⋅\\hat{\\ome\n",
       "────────────────────────────────── - ───────────── + ─────────────────────────\n",
       "         \\hat{\\omega}                            2                           2\n",
       "                                     \\hat{\\omega}                \\hat{\\omega} \n",
       "                                                                              \n",
       "         1                                                                    \n",
       "                                                                              \n",
       "         0                                                                    \n",
       "                                                                              \n",
       "         0                                                                    \n",
       "                                                                              \n",
       "         0                                                                    \n",
       "\n",
       "                                                                              \n",
       "ga} + \\theta)    sin(\\theta)    sin(\\Delta{t}⋅\\hat{\\omega} + \\theta)  \\Delta{t\n",
       "─────────────  - ──────────── + ────────────────────────────────────  ────────\n",
       "                 \\hat{\\omega}               \\hat{\\omega}                      \n",
       "                                                                              \n",
       "                                                                              \n",
       "                                                                              \n",
       "ga} + \\theta)   cos(\\theta)    cos(\\Delta{t}⋅\\hat{\\omega} + \\theta)   \\Delta{t\n",
       "─────────────   ──────────── - ────────────────────────────────────   ────────\n",
       "                \\hat{\\omega}               \\hat{\\omega}                       \n",
       "                                                                              \n",
       "                                                                              \n",
       "                                         0                                    \n",
       "                                                                              \n",
       "                                         1                                    \n",
       "                                                                              \n",
       "                                         0                                    \n",
       "                                                                              \n",
       "                                         0                                    \n",
       "\n",
       " 2                                                                            \n",
       "} ⋅a⋅cos(\\Delta{t}⋅\\hat{\\omega} + \\theta)   \\Delta{t}⋅v⋅cos(\\Delta{t}⋅\\hat{\\om\n",
       "───────────────────────────────────────── + ──────────────────────────────────\n",
       "           \\hat{\\omega}                                       \\hat{\\omega}    \n",
       "                                                                              \n",
       "                                                                              \n",
       " 2                                                                            \n",
       "} ⋅a⋅sin(\\Delta{t}⋅\\hat{\\omega} + \\theta)   \\Delta{t}⋅v⋅sin(\\Delta{t}⋅\\hat{\\om\n",
       "───────────────────────────────────────── + ──────────────────────────────────\n",
       "           \\hat{\\omega}                                       \\hat{\\omega}    \n",
       "                                                                              \n",
       "                                                                              \n",
       "                                                                              \n",
       "                                                                              \n",
       "                                                                              \n",
       "                                                                              \n",
       "                                                                              \n",
       "                                                                              \n",
       "                                                                              \n",
       "\n",
       "                                                                              \n",
       "ega} + \\theta)   2⋅\\Delta{t}⋅a⋅sin(\\Delta{t}⋅\\hat{\\omega} + \\theta)   v⋅sin(\\t\n",
       "────────────── - ────────────────────────────────────────────────── + ────────\n",
       "                                               2                              \n",
       "                                   \\hat{\\omega}                       \\hat{\\om\n",
       "                                                                              \n",
       "                                                                              \n",
       "ega} + \\theta)   2⋅\\Delta{t}⋅a⋅cos(\\Delta{t}⋅\\hat{\\omega} + \\theta)   v⋅cos(\\t\n",
       "────────────── + ────────────────────────────────────────────────── - ────────\n",
       "                                               2                              \n",
       "                                   \\hat{\\omega}                       \\hat{\\om\n",
       "                                                                              \n",
       "                                             \\Delta{t}                        \n",
       "                                                                              \n",
       "                                                 0                            \n",
       "                                                                              \n",
       "                                                 1                            \n",
       "                                                                              \n",
       "                                                 0                            \n",
       "\n",
       "                                                                              \n",
       "heta)   v⋅sin(\\Delta{t}⋅\\hat{\\omega} + \\theta)   2⋅a⋅cos(\\theta)   2⋅a⋅cos(\\De\n",
       "───── - ────────────────────────────────────── + ─────────────── - ───────────\n",
       "    2                           2                             3               \n",
       "ega}                \\hat{\\omega}                  \\hat{\\omega}                \n",
       "                                                                              \n",
       "                                                                              \n",
       "heta)   v⋅cos(\\Delta{t}⋅\\hat{\\omega} + \\theta)   2⋅a⋅sin(\\theta)   2⋅a⋅sin(\\De\n",
       "───── + ────────────────────────────────────── + ─────────────── - ───────────\n",
       "    2                           2                             3               \n",
       "ega}                \\hat{\\omega}                  \\hat{\\omega}                \n",
       "                                                                              \n",
       "                                                                              \n",
       "                                                                              \n",
       "                                                                              \n",
       "                                                                              \n",
       "                                                                              \n",
       "                                                                              \n",
       "                                                                              \n",
       "\n",
       "                                                                              \n",
       "lta{t}⋅\\hat{\\omega} + \\theta)   \\Delta{t}⋅sin(\\Delta{t}⋅\\hat{\\omega} + \\theta)\n",
       "─────────────────────────────   ──────────────────────────────────────────────\n",
       "              3                                  \\hat{\\omega}                 \n",
       "  \\hat{\\omega}                                                                \n",
       "                                                                              \n",
       "                                                                              \n",
       "lta{t}⋅\\hat{\\omega} + \\theta)    \\Delta{t}⋅cos(\\Delta{t}⋅\\hat{\\omega} + \\theta\n",
       "─────────────────────────────  - ─────────────────────────────────────────────\n",
       "              3                                   \\hat{\\omega}                \n",
       "  \\hat{\\omega}                                                                \n",
       "                                                                              \n",
       "                                                                              \n",
       "                                                                              \n",
       "                                                                              \n",
       "                                                                              \n",
       "                                                                              \n",
       "                                                                              \n",
       "                                                                              \n",
       "\n",
       "                                                        ⎤\n",
       "    cos(\\theta)    cos(\\Delta{t}⋅\\hat{\\omega} + \\theta) ⎥\n",
       " - ───────────── + ──────────────────────────────────── ⎥\n",
       "               2                          2             ⎥\n",
       "   \\hat{\\omega}               \\hat{\\omega}              ⎥\n",
       "                                                        ⎥\n",
       "                                                        ⎥\n",
       ")    sin(\\theta)    sin(\\Delta{t}⋅\\hat{\\omega} + \\theta)⎥\n",
       "─ - ───────────── + ────────────────────────────────────⎥\n",
       "                2                          2            ⎥\n",
       "    \\hat{\\omega}               \\hat{\\omega}             ⎥\n",
       "                                                        ⎥\n",
       "    0                                                   ⎥\n",
       "                                                        ⎥\n",
       "\\Delta{t}                                               ⎥\n",
       "                                                        ⎥\n",
       "    0                                                   ⎥\n",
       "                                                        ⎥\n",
       "    1                                                   ⎦"
      ]
     },
     "metadata": {},
     "output_type": "display_data"
    },
    {
     "data": {
      "text/plain": [
       "'Plugging in the numbers:'"
      ]
     },
     "metadata": {},
     "output_type": "display_data"
    },
    {
     "data": {
      "image/png": "[encoded data removed]",
      "text/latex": [
       "$\\displaystyle \\left\\{ \\Delta{t} : 0.1, \\  \\hat{\\omega} : 2, \\  \\omega_{0} : 0, \\  \\theta : 0.5, \\  a : 2, \\  v : 2, \\  x : 42, \\  y : 23\\right\\}$"
      ],
      "text/plain": [
       "{\\Delta{t}: 0.1, \\hat{\\omega}: 2, \\omega₀: 0, \\theta: 0.5, a: 2, v: 2, x: 42, \n",
       "y: 23}"
      ]
     },
     "metadata": {},
     "output_type": "display_data"
    },
    {
     "data": {
      "text/latex": [
       "$\\displaystyle \\left[\\begin{matrix}1.0 & 0 & -0.118652230194179 & 0.082396074316744 & -0.00631501513627726 & 0.00402579071041348\\\\0 & 1.0 & 0.172843730054315 & 0.0563701873029421 & 0.00858190270490869 & 0.00295592779414759\\\\0 & 0 & 1.0 & 0 & 0.1 & 0\\\\0 & 0 & 0 & 1.0 & 0 & 0.1\\\\0 & 0 & 0 & 0 & 1.0 & 0\\\\0 & 0 & 0 & 0 & 0 & 1.0\\end{matrix}\\right]$"
      ],
      "text/plain": [
       "⎡1.0   0   -0.118652230194179  0.082396074316744   -0.00631501513627726  0.004\n",
       "⎢                                                                             \n",
       "⎢ 0   1.0  0.172843730054315   0.0563701873029421  0.00858190270490869   0.002\n",
       "⎢                                                                             \n",
       "⎢ 0    0          1.0                  0                   0.1                \n",
       "⎢                                                                             \n",
       "⎢ 0    0           0                  1.0                   0                 \n",
       "⎢                                                                             \n",
       "⎢ 0    0           0                   0                   1.0                \n",
       "⎢                                                                             \n",
       "⎣ 0    0           0                   0                    0                 \n",
       "\n",
       "02579071041348⎤\n",
       "              ⎥\n",
       "95592779414759⎥\n",
       "              ⎥\n",
       "    0         ⎥\n",
       "              ⎥\n",
       "   0.1        ⎥\n",
       "              ⎥\n",
       "    0         ⎥\n",
       "              ⎥\n",
       "   1.0        ⎦"
      ]
     },
     "metadata": {},
     "output_type": "display_data"
    },
    {
     "name": "stdout",
     "output_type": "stream",
     "text": [
      "Assuming a zero turn rate, state is:\n"
     ]
    },
    {
     "data": {
      "text/latex": [
       "$\\displaystyle \\left[\\begin{matrix}\\frac{\\Delta{t}^{2} a \\cos{\\left(\\Delta{t} \\omega_{0} + \\theta \\right)}}{2} + \\Delta{t} v \\cos{\\left(\\Delta{t} \\omega_{0} + \\theta \\right)} + x\\\\\\frac{\\Delta{t}^{2} a \\sin{\\left(\\Delta{t} \\omega_{0} + \\theta \\right)}}{2} + \\Delta{t} v \\sin{\\left(\\Delta{t} \\omega_{0} + \\theta \\right)} + y\\\\\\theta\\\\\\Delta{t} a + v\\\\\\omega_{0}\\\\a\\end{matrix}\\right]$"
      ],
      "text/plain": [
       "⎡         2                                                                   \n",
       "⎢\\Delta{t} ⋅a⋅cos(\\Delta{t}⋅\\omega₀ + \\theta)                                 \n",
       "⎢──────────────────────────────────────────── + \\Delta{t}⋅v⋅cos(\\Delta{t}⋅\\ome\n",
       "⎢                     2                                                       \n",
       "⎢                                                                             \n",
       "⎢         2                                                                   \n",
       "⎢\\Delta{t} ⋅a⋅sin(\\Delta{t}⋅\\omega₀ + \\theta)                                 \n",
       "⎢──────────────────────────────────────────── + \\Delta{t}⋅v⋅sin(\\Delta{t}⋅\\ome\n",
       "⎢                     2                                                       \n",
       "⎢                                                                             \n",
       "⎢                                            \\theta                           \n",
       "⎢                                                                             \n",
       "⎢                                       \\Delta{t}⋅a + v                       \n",
       "⎢                                                                             \n",
       "⎢                                           \\omega₀                           \n",
       "⎢                                                                             \n",
       "⎣                                              a                              \n",
       "\n",
       "                 ⎤\n",
       "                 ⎥\n",
       "ga₀ + \\theta) + x⎥\n",
       "                 ⎥\n",
       "                 ⎥\n",
       "                 ⎥\n",
       "                 ⎥\n",
       "ga₀ + \\theta) + y⎥\n",
       "                 ⎥\n",
       "                 ⎥\n",
       "                 ⎥\n",
       "                 ⎥\n",
       "                 ⎥\n",
       "                 ⎥\n",
       "                 ⎥\n",
       "                 ⎥\n",
       "                 ⎦"
      ]
     },
     "metadata": {},
     "output_type": "display_data"
    },
    {
     "data": {
      "text/plain": [
       "'Plugging in the numbers:'"
      ]
     },
     "metadata": {},
     "output_type": "display_data"
    },
    {
     "data": {
      "image/png": "[encoded data removed]",
      "text/latex": [
       "$\\displaystyle \\left\\{ \\Delta{t} : 0.1, \\  \\hat{\\omega} : 2, \\  \\omega_{0} : 0, \\  \\theta : 0.5, \\  a : 2, \\  v : 2, \\  x : 42, \\  y : 23\\right\\}$"
      ],
      "text/plain": [
       "{\\Delta{t}: 0.1, \\hat{\\omega}: 2, \\omega₀: 0, \\theta: 0.5, a: 2, v: 2, x: 42, \n",
       "y: 23}"
      ]
     },
     "metadata": {},
     "output_type": "display_data"
    },
    {
     "data": {
      "text/latex": [
       "$\\displaystyle \\left[\\begin{matrix}42.184292337997\\\\23.1006793631069\\\\0.5\\\\2.2\\\\0\\\\2.0\\end{matrix}\\right]$"
      ],
      "text/plain": [
       "⎡42.184292337997 ⎤\n",
       "⎢                ⎥\n",
       "⎢23.1006793631069⎥\n",
       "⎢                ⎥\n",
       "⎢      0.5       ⎥\n",
       "⎢                ⎥\n",
       "⎢      2.2       ⎥\n",
       "⎢                ⎥\n",
       "⎢       0        ⎥\n",
       "⎢                ⎥\n",
       "⎣      2.0       ⎦"
      ]
     },
     "metadata": {},
     "output_type": "display_data"
    },
    {
     "name": "stdout",
     "output_type": "stream",
     "text": [
      "Jacobian of the next state with respect to the previous state with 0 turn rate:\n"
     ]
    },
    {
     "data": {
      "text/latex": [
       "$\\displaystyle \\left[\\begin{matrix}1 & 0 & - \\frac{\\Delta{t}^{2} a \\sin{\\left(\\Delta{t} \\omega_{0} + \\theta \\right)}}{2} - \\Delta{t} v \\sin{\\left(\\Delta{t} \\omega_{0} + \\theta \\right)} & \\Delta{t} \\cos{\\left(\\Delta{t} \\omega_{0} + \\theta \\right)} & - \\frac{\\Delta{t}^{3} a \\sin{\\left(\\Delta{t} \\omega_{0} + \\theta \\right)}}{2} - \\Delta{t}^{2} v \\sin{\\left(\\Delta{t} \\omega_{0} + \\theta \\right)} & \\frac{\\Delta{t}^{2} \\cos{\\left(\\Delta{t} \\omega_{0} + \\theta \\right)}}{2}\\\\0 & 1 & \\frac{\\Delta{t}^{2} a \\cos{\\left(\\Delta{t} \\omega_{0} + \\theta \\right)}}{2} + \\Delta{t} v \\cos{\\left(\\Delta{t} \\omega_{0} + \\theta \\right)} & \\Delta{t} \\sin{\\left(\\Delta{t} \\omega_{0} + \\theta \\right)} & \\frac{\\Delta{t}^{3} a \\cos{\\left(\\Delta{t} \\omega_{0} + \\theta \\right)}}{2} + \\Delta{t}^{2} v \\cos{\\left(\\Delta{t} \\omega_{0} + \\theta \\right)} & \\frac{\\Delta{t}^{2} \\sin{\\left(\\Delta{t} \\omega_{0} + \\theta \\right)}}{2}\\\\0 & 0 & 1 & 0 & 0 & 0\\\\0 & 0 & 0 & 1 & 0 & \\Delta{t}\\\\0 & 0 & 0 & 0 & 1 & 0\\\\0 & 0 & 0 & 0 & 0 & 1\\end{matrix}\\right]$"
      ],
      "text/plain": [
       "⎡                 2                                                           \n",
       "⎢        \\Delta{t} ⋅a⋅sin(\\Delta{t}⋅\\omega₀ + \\theta)                         \n",
       "⎢1  0  - ──────────────────────────────────────────── - \\Delta{t}⋅v⋅sin(\\Delta\n",
       "⎢                             2                                               \n",
       "⎢                                                                             \n",
       "⎢                2                                                            \n",
       "⎢       \\Delta{t} ⋅a⋅cos(\\Delta{t}⋅\\omega₀ + \\theta)                          \n",
       "⎢0  1   ──────────────────────────────────────────── + \\Delta{t}⋅v⋅cos(\\Delta{\n",
       "⎢                            2                                                \n",
       "⎢                                                                             \n",
       "⎢0  0                                               1                         \n",
       "⎢                                                                             \n",
       "⎢0  0                                               0                         \n",
       "⎢                                                                             \n",
       "⎢0  0                                               0                         \n",
       "⎢                                                                             \n",
       "⎣0  0                                               0                         \n",
       "\n",
       "                                                                             3\n",
       "                                                                    \\Delta{t} \n",
       "{t}⋅\\omega₀ + \\theta)  \\Delta{t}⋅cos(\\Delta{t}⋅\\omega₀ + \\theta)  - ──────────\n",
       "                                                                              \n",
       "                                                                              \n",
       "                                                                            3 \n",
       "                                                                   \\Delta{t} ⋅\n",
       "t}⋅\\omega₀ + \\theta)   \\Delta{t}⋅sin(\\Delta{t}⋅\\omega₀ + \\theta)   ───────────\n",
       "                                                                              \n",
       "                                                                              \n",
       "                                           0                                  \n",
       "                                                                              \n",
       "                                           1                                  \n",
       "                                                                              \n",
       "                                           0                                  \n",
       "                                                                              \n",
       "                                           0                                  \n",
       "\n",
       "                                                                              \n",
       "⋅a⋅sin(\\Delta{t}⋅\\omega₀ + \\theta)            2                               \n",
       "────────────────────────────────── - \\Delta{t} ⋅v⋅sin(\\Delta{t}⋅\\omega₀ + \\the\n",
       "           2                                                                  \n",
       "                                                                              \n",
       "                                                                              \n",
       "a⋅cos(\\Delta{t}⋅\\omega₀ + \\theta)            2                                \n",
       "───────────────────────────────── + \\Delta{t} ⋅v⋅cos(\\Delta{t}⋅\\omega₀ + \\thet\n",
       "          2                                                                   \n",
       "                                                                              \n",
       "                                  0                                           \n",
       "                                                                              \n",
       "                                  0                                           \n",
       "                                                                              \n",
       "                                  1                                           \n",
       "                                                                              \n",
       "                                  0                                           \n",
       "\n",
       "              2                                ⎤\n",
       "     \\Delta{t} ⋅cos(\\Delta{t}⋅\\omega₀ + \\theta)⎥\n",
       "ta)  ──────────────────────────────────────────⎥\n",
       "                         2                     ⎥\n",
       "                                               ⎥\n",
       "              2                                ⎥\n",
       "     \\Delta{t} ⋅sin(\\Delta{t}⋅\\omega₀ + \\theta)⎥\n",
       "a)   ──────────────────────────────────────────⎥\n",
       "                         2                     ⎥\n",
       "                                               ⎥\n",
       "                         0                     ⎥\n",
       "                                               ⎥\n",
       "                     \\Delta{t}                 ⎥\n",
       "                                               ⎥\n",
       "                         0                     ⎥\n",
       "                                               ⎥\n",
       "                         1                     ⎦"
      ]
     },
     "metadata": {},
     "output_type": "display_data"
    },
    {
     "data": {
      "text/plain": [
       "'Plugging in the numbers:'"
      ]
     },
     "metadata": {},
     "output_type": "display_data"
    },
    {
     "data": {
      "image/png": "[encoded data removed]",
      "text/latex": [
       "$\\displaystyle \\left\\{ \\Delta{t} : 0.1, \\  \\hat{\\omega} : 2, \\  \\omega_{0} : 0, \\  \\theta : 0.5, \\  a : 2, \\  v : 2, \\  x : 42, \\  y : 23\\right\\}$"
      ],
      "text/plain": [
       "{\\Delta{t}: 0.1, \\hat{\\omega}: 2, \\omega₀: 0, \\theta: 0.5, a: 2, v: 2, x: 42, \n",
       "y: 23}"
      ]
     },
     "metadata": {},
     "output_type": "display_data"
    },
    {
     "data": {
      "text/latex": [
       "$\\displaystyle \\left[\\begin{matrix}1.0 & 0 & -0.100679363106883 & 0.0877582561890373 & -0.0100679363106883 & 0.00438791280945186\\\\0 & 1.0 & 0.184292337996978 & 0.0479425538604203 & 0.0184292337996978 & 0.00239712769302102\\\\0 & 0 & 1.0 & 0 & 0 & 0\\\\0 & 0 & 0 & 1.0 & 0 & 0.1\\\\0 & 0 & 0 & 0 & 1.0 & 0\\\\0 & 0 & 0 & 0 & 0 & 1.0\\end{matrix}\\right]$"
      ],
      "text/plain": [
       "⎡1.0   0   -0.100679363106883  0.0877582561890373  -0.0100679363106883  0.0043\n",
       "⎢                                                                             \n",
       "⎢ 0   1.0  0.184292337996978   0.0479425538604203  0.0184292337996978   0.0023\n",
       "⎢                                                                             \n",
       "⎢ 0    0          1.0                  0                    0                 \n",
       "⎢                                                                             \n",
       "⎢ 0    0           0                  1.0                   0                 \n",
       "⎢                                                                             \n",
       "⎢ 0    0           0                   0                   1.0                \n",
       "⎢                                                                             \n",
       "⎣ 0    0           0                   0                    0                 \n",
       "\n",
       "8791280945186⎤\n",
       "             ⎥\n",
       "9712769302102⎥\n",
       "             ⎥\n",
       "   0         ⎥\n",
       "             ⎥\n",
       "  0.1        ⎥\n",
       "             ⎥\n",
       "   0         ⎥\n",
       "             ⎥\n",
       "  1.0        ⎦"
      ]
     },
     "metadata": {},
     "output_type": "display_data"
    }
   ],
   "source": [
    "speed, yaw, dt, x, y, acceleration, t, d_sin, d_cos = symbols('v \\\\theta \\Delta{t} x y a t d_{sin} d_{cos}')\n",
    "turn_rate_non_zero = Symbol('\\hat{\\omega}', nonzero=True, finite=True)\n",
    "zero_turn_rate = Symbol('\\omega_0', zero=True)\n",
    "turn_rate = Symbol('\\omega')\n",
    "\n",
    "state_catr = Matrix([x, y, yaw, speed, turn_rate, acceleration])\n",
    "print(\"CART state is:\")\n",
    "display(state_catr)\n",
    "\n",
    "def get_next_state(turn_rate):\n",
    "    # Specify the functions for yaw, speed, x, and y.\n",
    "    yaw_func = yaw + turn_rate * t\n",
    "    speed_func = speed + acceleration * t\n",
    "    x_speed_func = speed_func * cos(yaw_func)\n",
    "    y_speed_func = speed_func * sin(yaw_func)\n",
    "\n",
    "    # Get next state by integrating the functions.\n",
    "    next_speed = speed + integrate(acceleration, (t, 0, dt))\n",
    "    next_yaw = yaw + integrate(turn_rate, (t, 0, dt))\n",
    "    next_x = x + integrate(x_speed_func, (t, 0, dt))\n",
    "    next_y = y + integrate(y_speed_func, (t, 0, dt))\n",
    "\n",
    "    return Matrix([next_x, next_y, next_yaw, next_speed, turn_rate, acceleration])\n",
    "\n",
    "# There is a difference in computation betwee the cases when the turn rate is allowed to be zero or not\n",
    "print(\"Assuming a non-zero turn rate, the next state is:\")\n",
    "next_state = get_next_state(turn_rate_non_zero)\n",
    "display(next_state)\n",
    "\n",
    "substitutes = {x:42, y:23, yaw:0.5, speed:2, acceleration:2, dt:0.1, turn_rate_non_zero:2, zero_turn_rate:0}\n",
    "display('Plugging in the numbers:', substitutes)\n",
    "display(next_state.evalf(subs=substitutes))\n",
    "\n",
    "state = Matrix([x,y,yaw,speed,turn_rate_non_zero,acceleration])\n",
    "print(\"Jacobian of the next state with respect to the previous state:\")\n",
    "J = next_state.jacobian(state)\n",
    "display(J)\n",
    "display('Plugging in the numbers:', substitutes)\n",
    "display(J.evalf(subs=substitutes))\n",
    "\n",
    "print(\"Assuming a zero turn rate, state is:\")\n",
    "next_state = get_next_state(zero_turn_rate)\n",
    "display(next_state)\n",
    "display('Plugging in the numbers:', substitutes)\n",
    "display(next_state.evalf(subs=substitutes))\n",
    "\n",
    "state = Matrix([x,y,yaw,speed,zero_turn_rate,acceleration])\n",
    "print(\"Jacobian of the next state with respect to the previous state with 0 turn rate:\")\n",
    "J = next_state.jacobian(state)\n",
    "display(J)\n",
    "\n",
    "display('Plugging in the numbers:', substitutes)\n",
    "display(J.evalf(subs=substitutes))\n"
   ]
  },
  {
   "cell_type": "markdown",
   "metadata": {},
   "source": [
    "## CVTR - constant velocity and turn rate model\n",
    "This model assumes the state $[x, y, \\theta, v, \\omega]^\\top$, where $x$ and $y$ are coordinates of the object, $\\theta$ is it CCW orientation, $v$ is its speed along the vector spawned by $\\theta$, $\\omega$ is the angular velocity (aka turn rate). Furthermore, we assume that the object has constant speed $v$ and constant turn rate $\\omega$. This is also a useful model to model differential-drive systems. It is a bit simpler than the CATR one.\n",
    "\n",
    "### Derivation:"
   ]
  },
  {
   "cell_type": "code",
   "execution_count": 3,
   "metadata": {},
   "outputs": [
    {
     "name": "stdout",
     "output_type": "stream",
     "text": [
      "CVRT state is:\n"
     ]
    },
    {
     "data": {
      "text/latex": [
       "$\\displaystyle \\left[\\begin{matrix}x\\\\y\\\\\\theta\\\\v\\\\\\omega\\end{matrix}\\right]$"
      ],
      "text/plain": [
       "⎡  x   ⎤\n",
       "⎢      ⎥\n",
       "⎢  y   ⎥\n",
       "⎢      ⎥\n",
       "⎢\\theta⎥\n",
       "⎢      ⎥\n",
       "⎢  v   ⎥\n",
       "⎢      ⎥\n",
       "⎣\\omega⎦"
      ]
     },
     "metadata": {},
     "output_type": "display_data"
    },
    {
     "name": "stdout",
     "output_type": "stream",
     "text": [
      "Assuming a non-zero turn rate, next state is:\n"
     ]
    },
    {
     "data": {
      "text/latex": [
       "$\\displaystyle \\left[\\begin{matrix}x - \\frac{v \\sin{\\left(\\theta \\right)}}{\\omega} + \\frac{v \\sin{\\left(\\Delta{t} \\omega + \\theta \\right)}}{\\omega}\\\\y + \\frac{v \\cos{\\left(\\theta \\right)}}{\\omega} - \\frac{v \\cos{\\left(\\Delta{t} \\omega + \\theta \\right)}}{\\omega}\\\\\\Delta{t} \\omega + \\theta\\\\v\\\\\\omega\\end{matrix}\\right]$"
      ],
      "text/plain": [
       "⎡    v⋅sin(\\theta)   v⋅sin(\\Delta{t}⋅\\omega + \\theta)⎤\n",
       "⎢x - ───────────── + ────────────────────────────────⎥\n",
       "⎢        \\omega                   \\omega             ⎥\n",
       "⎢                                                    ⎥\n",
       "⎢    v⋅cos(\\theta)   v⋅cos(\\Delta{t}⋅\\omega + \\theta)⎥\n",
       "⎢y + ───────────── - ────────────────────────────────⎥\n",
       "⎢        \\omega                   \\omega             ⎥\n",
       "⎢                                                    ⎥\n",
       "⎢             \\Delta{t}⋅\\omega + \\theta              ⎥\n",
       "⎢                                                    ⎥\n",
       "⎢                         v                          ⎥\n",
       "⎢                                                    ⎥\n",
       "⎣                       \\omega                       ⎦"
      ]
     },
     "metadata": {},
     "output_type": "display_data"
    },
    {
     "data": {
      "text/markdown": [
       "Plugging in the numbers:"
      ],
      "text/plain": [
       "<IPython.core.display.Markdown object>"
      ]
     },
     "metadata": {},
     "output_type": "display_data"
    },
    {
     "data": {
      "image/png": "[encoded data removed]",
      "text/latex": [
       "$\\displaystyle \\left\\{ \\Delta{t} : 0.1, \\  \\omega : 2, \\  \\omega_{0} : 0, \\  \\theta : 0.5, \\  v : 2, \\  x : 42, \\  y : 23\\right\\}$"
      ],
      "text/plain": [
       "{\\Delta{t}: 0.1, \\omega: 2, \\omega₀: 0, \\theta: 0.5, v: 2, x: 42, y: 23}"
      ]
     },
     "metadata": {},
     "output_type": "display_data"
    },
    {
     "data": {
      "text/latex": [
       "$\\displaystyle \\left[\\begin{matrix}42.1647921486335\\\\23.1127403746059\\\\0.7\\\\2.0\\\\2.0\\end{matrix}\\right]$"
      ],
      "text/plain": [
       "⎡42.1647921486335⎤\n",
       "⎢                ⎥\n",
       "⎢23.1127403746059⎥\n",
       "⎢                ⎥\n",
       "⎢      0.7       ⎥\n",
       "⎢                ⎥\n",
       "⎢      2.0       ⎥\n",
       "⎢                ⎥\n",
       "⎣      2.0       ⎦"
      ]
     },
     "metadata": {},
     "output_type": "display_data"
    },
    {
     "name": "stdout",
     "output_type": "stream",
     "text": [
      "Jacobian of the next state with respect to the previous state:\n"
     ]
    },
    {
     "data": {
      "text/latex": [
       "$\\displaystyle \\left[\\begin{matrix}1 & 0 & - \\frac{v \\cos{\\left(\\theta \\right)}}{\\omega} + \\frac{v \\cos{\\left(\\Delta{t} \\omega + \\theta \\right)}}{\\omega} & - \\frac{\\sin{\\left(\\theta \\right)}}{\\omega} + \\frac{\\sin{\\left(\\Delta{t} \\omega + \\theta \\right)}}{\\omega} & \\frac{\\Delta{t} v \\cos{\\left(\\Delta{t} \\omega + \\theta \\right)}}{\\omega} + \\frac{v \\sin{\\left(\\theta \\right)}}{\\omega^{2}} - \\frac{v \\sin{\\left(\\Delta{t} \\omega + \\theta \\right)}}{\\omega^{2}}\\\\0 & 1 & - \\frac{v \\sin{\\left(\\theta \\right)}}{\\omega} + \\frac{v \\sin{\\left(\\Delta{t} \\omega + \\theta \\right)}}{\\omega} & \\frac{\\cos{\\left(\\theta \\right)}}{\\omega} - \\frac{\\cos{\\left(\\Delta{t} \\omega + \\theta \\right)}}{\\omega} & \\frac{\\Delta{t} v \\sin{\\left(\\Delta{t} \\omega + \\theta \\right)}}{\\omega} - \\frac{v \\cos{\\left(\\theta \\right)}}{\\omega^{2}} + \\frac{v \\cos{\\left(\\Delta{t} \\omega + \\theta \\right)}}{\\omega^{2}}\\\\0 & 0 & 1 & 0 & \\Delta{t}\\\\0 & 0 & 0 & 1 & 0\\\\0 & 0 & 0 & 0 & 1\\end{matrix}\\right]$"
      ],
      "text/plain": [
       "⎡        v⋅cos(\\theta)   v⋅cos(\\Delta{t}⋅\\omega + \\theta)    sin(\\theta)   sin\n",
       "⎢1  0  - ───────────── + ────────────────────────────────  - ─────────── + ───\n",
       "⎢            \\omega                   \\omega                    \\omega        \n",
       "⎢                                                                             \n",
       "⎢                                                                             \n",
       "⎢        v⋅sin(\\theta)   v⋅sin(\\Delta{t}⋅\\omega + \\theta)   cos(\\theta)   cos(\n",
       "⎢0  1  - ───────────── + ────────────────────────────────   ─────────── - ────\n",
       "⎢            \\omega                   \\omega                   \\omega         \n",
       "⎢                                                                             \n",
       "⎢                                                                             \n",
       "⎢0  0                          1                                              \n",
       "⎢                                                                             \n",
       "⎢0  0                          0                                              \n",
       "⎢                                                                             \n",
       "⎣0  0                          0                                              \n",
       "\n",
       "(\\Delta{t}⋅\\omega + \\theta)  \\Delta{t}⋅v⋅cos(\\Delta{t}⋅\\omega + \\theta)   v⋅si\n",
       "───────────────────────────  ────────────────────────────────────────── + ────\n",
       "         \\omega                                \\omega                         \n",
       "                                                                             \\\n",
       "                                                                              \n",
       "\\Delta{t}⋅\\omega + \\theta)   \\Delta{t}⋅v⋅sin(\\Delta{t}⋅\\omega + \\theta)   v⋅co\n",
       "──────────────────────────   ────────────────────────────────────────── - ────\n",
       "        \\omega                                 \\omega                         \n",
       "                                                                             \\\n",
       "                                                                              \n",
       "   0                                                                   \\Delta{\n",
       "                                                                              \n",
       "   1                                                                       0  \n",
       "                                                                              \n",
       "   0                                                                       1  \n",
       "\n",
       "n(\\theta)   v⋅sin(\\Delta{t}⋅\\omega + \\theta)⎤\n",
       "───────── - ────────────────────────────────⎥\n",
       "     2                        2             ⎥\n",
       "omega                   \\omega              ⎥\n",
       "                                            ⎥\n",
       "s(\\theta)   v⋅cos(\\Delta{t}⋅\\omega + \\theta)⎥\n",
       "───────── + ────────────────────────────────⎥\n",
       "     2                        2             ⎥\n",
       "omega                   \\omega              ⎥\n",
       "                                            ⎥\n",
       "t}                                          ⎥\n",
       "                                            ⎥\n",
       "                                            ⎥\n",
       "                                            ⎥\n",
       "                                            ⎦"
      ]
     },
     "metadata": {},
     "output_type": "display_data"
    },
    {
     "data": {
      "text/markdown": [
       "Plugging in the numbers:"
      ],
      "text/plain": [
       "<IPython.core.display.Markdown object>"
      ]
     },
     "metadata": {},
     "output_type": "display_data"
    },
    {
     "data": {
      "image/png": "[encoded data removed]",
      "text/latex": [
       "$\\displaystyle \\left\\{ \\Delta{t} : 0.1, \\  \\omega : 2, \\  \\omega_{0} : 0, \\  \\theta : 0.5, \\  v : 2, \\  x : 42, \\  y : 23\\right\\}$"
      ],
      "text/plain": [
       "{\\Delta{t}: 0.1, \\omega: 2, \\omega₀: 0, \\theta: 0.5, v: 2, x: 42, y: 23}"
      ]
     },
     "metadata": {},
     "output_type": "display_data"
    },
    {
     "data": {
      "text/latex": [
       "$\\displaystyle \\left[\\begin{matrix}1.0 & 0 & -0.112740374605884 & 0.082396074316744 & -0.00591185558829518\\\\0 & 1.0 & 0.164792148633488 & 0.0563701873029421 & 0.00805158142082696\\\\0 & 0 & 1.0 & 0 & 0.1\\\\0 & 0 & 0 & 1.0 & 0\\\\0 & 0 & 0 & 0 & 1.0\\end{matrix}\\right]$"
      ],
      "text/plain": [
       "⎡1.0   0   -0.112740374605884  0.082396074316744   -0.00591185558829518⎤\n",
       "⎢                                                                      ⎥\n",
       "⎢ 0   1.0  0.164792148633488   0.0563701873029421  0.00805158142082696 ⎥\n",
       "⎢                                                                      ⎥\n",
       "⎢ 0    0          1.0                  0                   0.1         ⎥\n",
       "⎢                                                                      ⎥\n",
       "⎢ 0    0           0                  1.0                   0          ⎥\n",
       "⎢                                                                      ⎥\n",
       "⎣ 0    0           0                   0                   1.0         ⎦"
      ]
     },
     "metadata": {},
     "output_type": "display_data"
    },
    {
     "name": "stdout",
     "output_type": "stream",
     "text": [
      "Assuming a zero turn rate, next state is:\n"
     ]
    },
    {
     "data": {
      "text/latex": [
       "$\\displaystyle \\left[\\begin{matrix}\\Delta{t} v \\cos{\\left(\\Delta{t} \\omega_{0} + \\theta \\right)} + x\\\\\\Delta{t} v \\sin{\\left(\\Delta{t} \\omega_{0} + \\theta \\right)} + y\\\\\\theta\\\\v\\\\\\omega_{0}\\end{matrix}\\right]$"
      ],
      "text/plain": [
       "⎡\\Delta{t}⋅v⋅cos(\\Delta{t}⋅\\omega₀ + \\theta) + x⎤\n",
       "⎢                                               ⎥\n",
       "⎢\\Delta{t}⋅v⋅sin(\\Delta{t}⋅\\omega₀ + \\theta) + y⎥\n",
       "⎢                                               ⎥\n",
       "⎢                    \\theta                     ⎥\n",
       "⎢                                               ⎥\n",
       "⎢                       v                       ⎥\n",
       "⎢                                               ⎥\n",
       "⎣                    \\omega₀                    ⎦"
      ]
     },
     "metadata": {},
     "output_type": "display_data"
    },
    {
     "data": {
      "text/markdown": [
       "Plugging in the numbers:"
      ],
      "text/plain": [
       "<IPython.core.display.Markdown object>"
      ]
     },
     "metadata": {},
     "output_type": "display_data"
    },
    {
     "data": {
      "image/png": "[encoded data removed]",
      "text/latex": [
       "$\\displaystyle \\left\\{ \\Delta{t} : 0.1, \\  \\omega : 2, \\  \\omega_{0} : 0, \\  \\theta : 0.5, \\  v : 2, \\  x : 42, \\  y : 23\\right\\}$"
      ],
      "text/plain": [
       "{\\Delta{t}: 0.1, \\omega: 2, \\omega₀: 0, \\theta: 0.5, v: 2, x: 42, y: 23}"
      ]
     },
     "metadata": {},
     "output_type": "display_data"
    },
    {
     "data": {
      "text/latex": [
       "$\\displaystyle \\left[\\begin{matrix}42.1755165123781\\\\23.0958851077208\\\\0.5\\\\2.0\\\\0\\end{matrix}\\right]$"
      ],
      "text/plain": [
       "⎡42.1755165123781⎤\n",
       "⎢                ⎥\n",
       "⎢23.0958851077208⎥\n",
       "⎢                ⎥\n",
       "⎢      0.5       ⎥\n",
       "⎢                ⎥\n",
       "⎢      2.0       ⎥\n",
       "⎢                ⎥\n",
       "⎣       0        ⎦"
      ]
     },
     "metadata": {},
     "output_type": "display_data"
    },
    {
     "name": "stdout",
     "output_type": "stream",
     "text": [
      "Jacobian of the next state with respect to the previous one with zero turn rate:\n"
     ]
    },
    {
     "data": {
      "text/latex": [
       "$\\displaystyle \\left[\\begin{matrix}1 & 0 & - \\Delta{t} v \\sin{\\left(\\Delta{t} \\omega_{0} + \\theta \\right)} & \\Delta{t} \\cos{\\left(\\Delta{t} \\omega_{0} + \\theta \\right)} & - \\Delta{t}^{2} v \\sin{\\left(\\Delta{t} \\omega_{0} + \\theta \\right)}\\\\0 & 1 & \\Delta{t} v \\cos{\\left(\\Delta{t} \\omega_{0} + \\theta \\right)} & \\Delta{t} \\sin{\\left(\\Delta{t} \\omega_{0} + \\theta \\right)} & \\Delta{t}^{2} v \\cos{\\left(\\Delta{t} \\omega_{0} + \\theta \\right)}\\\\0 & 0 & 1 & 0 & 0\\\\0 & 0 & 0 & 1 & 0\\\\0 & 0 & 0 & 0 & 1\\end{matrix}\\right]$"
      ],
      "text/plain": [
       "⎡                                                                             \n",
       "⎢1  0  -\\Delta{t}⋅v⋅sin(\\Delta{t}⋅\\omega₀ + \\theta)  \\Delta{t}⋅cos(\\Delta{t}⋅\\\n",
       "⎢                                                                             \n",
       "⎢                                                                             \n",
       "⎢0  1  \\Delta{t}⋅v⋅cos(\\Delta{t}⋅\\omega₀ + \\theta)   \\Delta{t}⋅sin(\\Delta{t}⋅\\\n",
       "⎢                                                                             \n",
       "⎢0  0                       1                                            0    \n",
       "⎢                                                                             \n",
       "⎢0  0                       0                                            1    \n",
       "⎢                                                                             \n",
       "⎣0  0                       0                                            0    \n",
       "\n",
       "                            2                                  ⎤\n",
       "omega₀ + \\theta)  -\\Delta{t} ⋅v⋅sin(\\Delta{t}⋅\\omega₀ + \\theta)⎥\n",
       "                                                               ⎥\n",
       "                           2                                   ⎥\n",
       "omega₀ + \\theta)  \\Delta{t} ⋅v⋅cos(\\Delta{t}⋅\\omega₀ + \\theta) ⎥\n",
       "                                                               ⎥\n",
       "                                        0                      ⎥\n",
       "                                                               ⎥\n",
       "                                        0                      ⎥\n",
       "                                                               ⎥\n",
       "                                        1                      ⎦"
      ]
     },
     "metadata": {},
     "output_type": "display_data"
    },
    {
     "data": {
      "text/markdown": [
       "Plugging in the numbers:"
      ],
      "text/plain": [
       "<IPython.core.display.Markdown object>"
      ]
     },
     "metadata": {},
     "output_type": "display_data"
    },
    {
     "data": {
      "image/png": "[encoded data removed]",
      "text/latex": [
       "$\\displaystyle \\left\\{ \\Delta{t} : 0.1, \\  \\omega : 2, \\  \\omega_{0} : 0, \\  \\theta : 0.5, \\  v : 2, \\  x : 42, \\  y : 23\\right\\}$"
      ],
      "text/plain": [
       "{\\Delta{t}: 0.1, \\omega: 2, \\omega₀: 0, \\theta: 0.5, v: 2, x: 42, y: 23}"
      ]
     },
     "metadata": {},
     "output_type": "display_data"
    },
    {
     "data": {
      "text/latex": [
       "$\\displaystyle \\left[\\begin{matrix}1.0 & 0 & -0.0958851077208406 & 0.0877582561890373 & -0.00958851077208406\\\\0 & 1.0 & 0.175516512378075 & 0.0479425538604203 & 0.0175516512378075\\\\0 & 0 & 1.0 & 0 & 0\\\\0 & 0 & 0 & 1.0 & 0\\\\0 & 0 & 0 & 0 & 1.0\\end{matrix}\\right]$"
      ],
      "text/plain": [
       "⎡1.0   0   -0.0958851077208406  0.0877582561890373  -0.00958851077208406⎤\n",
       "⎢                                                                       ⎥\n",
       "⎢ 0   1.0   0.175516512378075   0.0479425538604203   0.0175516512378075 ⎥\n",
       "⎢                                                                       ⎥\n",
       "⎢ 0    0           1.0                  0                    0          ⎥\n",
       "⎢                                                                       ⎥\n",
       "⎢ 0    0            0                  1.0                   0          ⎥\n",
       "⎢                                                                       ⎥\n",
       "⎣ 0    0            0                   0                   1.0         ⎦"
      ]
     },
     "metadata": {},
     "output_type": "display_data"
    }
   ],
   "source": [
    "speed, yaw, dt, x, y, t = symbols('v \\\\theta \\Delta{t} x y t')\n",
    "turn_rate_non_zero = Symbol('\\omega', nonzero=True, finite=True)\n",
    "zero_turn_rate = Symbol('\\omega_0', zero=True)\n",
    "\n",
    "state_cvtr = Matrix([x, y, yaw, speed, turn_rate_non_zero])\n",
    "print(\"CVRT state is:\")\n",
    "display(state_cvtr)\n",
    "\n",
    "def get_next_state(turn_rate):\n",
    "    # Specify the functions for yaw, x, and y.\n",
    "    yaw_func = yaw + turn_rate * t\n",
    "    x_speed_func = speed * cos(yaw_func)\n",
    "    y_speed_func = speed * sin(yaw_func)\n",
    "\n",
    "    # Get next state by integrating the functions.\n",
    "    next_yaw = yaw + integrate(turn_rate, (t, 0, dt))\n",
    "    next_x = x + integrate(x_speed_func, (t, 0, dt))\n",
    "    next_y = y + integrate(y_speed_func, (t, 0, dt))\n",
    "\n",
    "    return Matrix([next_x, next_y, next_yaw, speed, turn_rate])\n",
    "\n",
    "# There is a difference in computation betwee the cases when the turn rate is allowed to be zero or not\n",
    "print(\"Assuming a non-zero turn rate, next state is:\")\n",
    "next_state = get_next_state(turn_rate_non_zero)\n",
    "display(next_state)\n",
    "substitutes = {x:42, y:23, yaw:0.5, speed:2, dt:0.1, turn_rate_non_zero:2, zero_turn_rate:0}\n",
    "display(Markdown('Plugging in the numbers:'), substitutes)\n",
    "display(next_state.evalf(subs=substitutes))\n",
    "\n",
    "state = Matrix([x,y,yaw,speed,turn_rate_non_zero])\n",
    "print(\"Jacobian of the next state with respect to the previous state:\")\n",
    "J = next_state.jacobian(state)\n",
    "display(J)\n",
    "\n",
    "display(Markdown('Plugging in the numbers:'), substitutes)\n",
    "display(J.evalf(subs=substitutes))\n",
    "\n",
    "print(\"Assuming a zero turn rate, next state is:\")\n",
    "next_state = get_next_state(zero_turn_rate)\n",
    "display(next_state)\n",
    "display(Markdown('Plugging in the numbers:'), substitutes)\n",
    "display(next_state.evalf(subs=substitutes))\n",
    "\n",
    "state = Matrix([x,y,yaw,speed,zero_turn_rate])\n",
    "print(\"Jacobian of the next state with respect to the previous one with zero turn rate:\")\n",
    "J = next_state.jacobian(state)\n",
    "display(J)\n",
    "\n",
    "display(Markdown('Plugging in the numbers:'), substitutes)\n",
    "display(J.evalf(subs=substitutes))"
   ]
  }
 ],
 "metadata": {
  "kernelspec": {
   "display_name": "Python 3",
   "language": "python",
   "name": "python3"
  },
  "language_info": {
   "codemirror_mode": {
    "name": "ipython",
    "version": 3
   },
   "file_extension": ".py",
   "mimetype": "text/x-python",
   "name": "python",
   "nbconvert_exporter": "python",
   "pygments_lexer": "ipython3",
   "version": "3.8.5"
  }
 },
 "nbformat": 4,
 "nbformat_minor": 2
}
